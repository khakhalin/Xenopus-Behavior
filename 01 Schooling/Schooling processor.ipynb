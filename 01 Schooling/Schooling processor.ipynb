{
 "cells": [
  {
   "cell_type": "markdown",
   "metadata": {},
   "source": [
    "# Schooling in Xenopus tadpoles\n",
    "\n",
    "Data processor"
   ]
  },
  {
   "cell_type": "code",
   "execution_count": 4,
   "metadata": {},
   "outputs": [],
   "source": [
    "import matplotlib.pyplot as plt\n",
    "import numpy as np\n",
    "import pandas as pd"
   ]
  },
  {
   "cell_type": "code",
   "execution_count": 10,
   "metadata": {},
   "outputs": [
    {
     "data": {
      "text/plain": [
       "'C:\\\\Users\\\\khakh\\\\Documents\\\\Projects\\\\Xenopus Behavior\\\\Xenopus-Behavior-GIT\\\\01 Schooling'"
      ]
     },
     "execution_count": 10,
     "metadata": {},
     "output_type": "execute_result"
    }
   ],
   "source": [
    "%pwd"
   ]
  },
  {
   "cell_type": "code",
   "execution_count": 63,
   "metadata": {},
   "outputs": [
    {
     "name": "stdout",
     "output_type": "stream",
     "text": [
      "   Tad  Area  Min  Min  Max      X       Y\n",
      "0    1     0  215  215  215  7.391  14.783\n",
      "1    2     0  128  128  128  7.232  14.643\n",
      "2    3     0  239  239  239  8.850  14.623\n",
      "3    4     0  156  156  156  8.670  14.443\n",
      "4    5     0  236  236  236  7.751  12.426\n"
     ]
    }
   ],
   "source": [
    "d = pd.read_csv('data/control.csv')\n",
    "d.columns = ['Tad']+[d.columns[i].replace(' ','') for i in range(1,len(d.columns))] # Remove spaces in column names\n",
    "print(d[:5])"
   ]
  },
  {
   "cell_type": "markdown",
   "metadata": {},
   "source": [
    "Standard ImageJ format. X and Y are coordinates; every odd row is a tadpole head; every odd row is a tail. The first row goes from 1 to 2n (where n is the number of tadpoles in each frame), then starts anew. There is no frame counter."
   ]
  },
  {
   "cell_type": "code",
   "execution_count": 90,
   "metadata": {},
   "outputs": [],
   "source": [
    "d['Frame'] = 0\n",
    "for i in range(1,d.shape[0]):\n",
    "    if d.loc[i,'Tad']<d.loc[i-1,'Tad']:\n",
    "        d.loc[i,'Frame'] = d.loc[i-1,'Frame']+1\n",
    "    else:\n",
    "        d.loc[i,'Frame'] = d.loc[i-1,'Frame']\n",
    "# Note that d['Frame'][i] wouldn't have worked because of chain slicing: applying 2nd slice after the 1st would\n",
    "# have created a copy of the dataframe, and so wouldn't have transformed the original dataframe"
   ]
  },
  {
   "cell_type": "code",
   "execution_count": 100,
   "metadata": {},
   "outputs": [
    {
     "data": {
      "image/png": "[encoded data removed]",
      "text/plain": [
       "<Figure size 432x288 with 1 Axes>"
      ]
     },
     "metadata": {
      "needs_background": "light"
     },
     "output_type": "display_data"
    }
   ],
   "source": [
    "fig = plt.figure()\n",
    "ax = fig.add_subplot(111)\n",
    "ax.plot(d.loc[d.Frame==0,'X'],d.loc[d.Frame==0,'Y'],'.');\n",
    "ax.set_aspect('equal')"
   ]
  }
 ],
 "metadata": {
  "kernelspec": {
   "display_name": "Python 3",
   "language": "python",
   "name": "python3"
  },
  "language_info": {
   "codemirror_mode": {
    "name": "ipython",
    "version": 3
   },
   "file_extension": ".py",
   "mimetype": "text/x-python",
   "name": "python",
   "nbconvert_exporter": "python",
   "pygments_lexer": "ipython3",
   "version": "3.7.3"
  }
 },
 "nbformat": 4,
 "nbformat_minor": 2
}
